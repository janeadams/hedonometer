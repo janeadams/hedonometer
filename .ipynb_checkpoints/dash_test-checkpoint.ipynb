{
 "cells": [
  {
   "cell_type": "code",
   "execution_count": 38,
   "metadata": {},
   "outputs": [],
   "source": [
    "import pandas as pd\n",
    "import dash\n",
    "from dash.dependencies import Input, Output\n",
    "import dash_core_components as dcc\n",
    "import dash_html_components as html\n",
    "from pandas_datareader import data as web\n",
    "from datetime import datetime as dt"
   ]
  },
  {
   "cell_type": "code",
   "execution_count": 39,
   "metadata": {},
   "outputs": [],
   "source": [
    "mypath = \"daily_onegrams/daily_ranks\"\n",
    "from os import listdir\n",
    "from os.path import isfile, join\n",
    "filelist = [f for f in listdir(mypath) if isfile(join(mypath, f))]\n",
    "wordlist = [name[:-4] for name in filelist]"
   ]
  },
  {
   "cell_type": "code",
   "execution_count": 40,
   "metadata": {},
   "outputs": [],
   "source": [
    "def load(word):\n",
    "    #df = pickle.load( open(str(\"daily_onegrams/daily_ranks_pickle/\"+word+\".pkl\")) )\n",
    "    df = pd.read_csv(str(\"daily_onegrams/daily_ranks/\"+word+\".txt\"), sep=\" \", skipinitialspace=True)\n",
    "    df['Date'] = [dt.strptime(date, '%Y-%m-%d') for date in df['Date']]\n",
    "    df['Year'] = [date.year for date in df['Date']]\n",
    "    df['Day'] = [date.timetuple().tm_yday for date in df['Date']]\n",
    "    return df"
   ]
  },
  {
   "cell_type": "code",
   "execution_count": 42,
   "metadata": {},
   "outputs": [],
   "source": [
    "options=[]\n",
    "for word in wordlist:\n",
    "    options.append({'label': word, 'value': word})"
   ]
  },
  {
   "cell_type": "code",
   "execution_count": 44,
   "metadata": {},
   "outputs": [
    {
     "ename": "SyntaxError",
     "evalue": "invalid syntax (<ipython-input-44-6fdb0f8bb9c8>, line 11)",
     "output_type": "error",
     "traceback": [
      "\u001b[0;36m  File \u001b[0;32m\"<ipython-input-44-6fdb0f8bb9c8>\"\u001b[0;36m, line \u001b[0;32m11\u001b[0m\n\u001b[0;31m    multi=True\u001b[0m\n\u001b[0m         ^\u001b[0m\n\u001b[0;31mSyntaxError\u001b[0m\u001b[0;31m:\u001b[0m invalid syntax\n"
     ]
    }
   ],
   "source": [
    "app = dash.Dash()\n",
    "\n",
    "app.layout = html.Div([\n",
    "    html.H1('Twitter 1-grams'),\n",
    "    dcc.Dropdown(\n",
    "        id='my-dropdown',\n",
    "        options = options,\n",
    "        value='digital',\n",
    "        multi=True\n",
    "    ),\n",
    "    dcc.Graph(id='my-graph'),\n",
    "])\n",
    "\n",
    "@app.callback(Output('my-graph', 'figure'), [Input('my-dropdown', 'value')])\n",
    "def update_graph(selected_dropdown_value):\n",
    "    df = load(selected_dropdown_value)\n",
    "    return {\n",
    "        'data': [{\n",
    "            'x': df['Date'],\n",
    "            'y': df['Rank']\n",
    "        }]\n",
    "    }\n",
    "\n",
    "if __name__ == '__main__':\n",
    "    app.run_server()"
   ]
  },
  {
   "cell_type": "code",
   "execution_count": null,
   "metadata": {},
   "outputs": [],
   "source": []
  }
 ],
 "metadata": {
  "kernelspec": {
   "display_name": "Python 3",
   "language": "python",
   "name": "python3"
  },
  "language_info": {
   "codemirror_mode": {
    "name": "ipython",
    "version": 3
   },
   "file_extension": ".py",
   "mimetype": "text/x-python",
   "name": "python",
   "nbconvert_exporter": "python",
   "pygments_lexer": "ipython3",
   "version": "3.7.0"
  }
 },
 "nbformat": 4,
 "nbformat_minor": 2
}
